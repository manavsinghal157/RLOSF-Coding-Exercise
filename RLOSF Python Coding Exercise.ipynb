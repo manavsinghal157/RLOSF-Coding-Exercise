{
 "cells": [
  {
   "cell_type": "markdown",
   "metadata": {},
   "source": [
    "**Importing the necessary packages**"
   ]
  },
  {
   "cell_type": "code",
   "execution_count": 38,
   "metadata": {},
   "outputs": [],
   "source": [
    "from vowpalwabbit import pyvw\n",
    "import random\n",
    "import numpy as np\n",
    "import matplotlib.pyplot as plt"
   ]
  },
  {
   "cell_type": "markdown",
   "metadata": {},
   "source": [
    "**Defining the reward values**"
   ]
  },
  {
   "cell_type": "code",
   "execution_count": 39,
   "metadata": {},
   "outputs": [],
   "source": [
    "USER_LIKED_ARTICLE = -1.0\n",
    "USER_DISLIKED_ARTICLE = 0.0"
   ]
  },
  {
   "cell_type": "markdown",
   "metadata": {},
   "source": [
    "**Introducing varying noise in the reward:**\\\n",
    "Noise is the stochastic choice of USER_LIKED_ARTICLE with a small probability of getting the opposite reward instead of choosing it deterministically. Hence with probability of epsilon the opposite reward is chosen and probability of (1-epsilon) the expected reward.\\\n",
    "\\\n",
    "**Why does noise make sense in our context?**\\\n",
    "Noise makes sense in the this context because even if the user likes sports in the morning generally, sometimes he might dislike it, so this noise helps to model that behaviour."
   ]
  },
  {
   "cell_type": "code",
   "execution_count": 40,
   "metadata": {},
   "outputs": [],
   "source": [
    "#With probability of (1-eps) USER_LIKED_ARTICLE chosen\n",
    "def positivereward(p,eps):\n",
    "    if p<eps:\n",
    "        return USER_DISLIKED_ARTICLE\n",
    "    else:\n",
    "        return USER_LIKED_ARTICLE\n",
    "    \n",
    "#With probability of (1-eps) USER_DISLIKED_ARTICLE chosen    \n",
    "def negativereward(p,eps):\n",
    "    if p<eps:\n",
    "        return USER_LIKED_ARTICLE\n",
    "    else:\n",
    "        return USER_DISLIKED_ARTICLE"
   ]
  },
  {
   "cell_type": "markdown",
   "metadata": {},
   "source": [
    "**To incorporate mutiple changes in the reward distribution over time, multiple cost functions are defined with changing preferences**\\\n",
    "For example: Tom might be keen on watching politics in the morning if there is an election taking place however would be keen on watching sports in the morning if the Olympic Games are being held."
   ]
  },
  {
   "cell_type": "code",
   "execution_count": 41,
   "metadata": {},
   "outputs": [],
   "source": [
    "def get_cost_elections(context,action,eps): # Election being held hence politics preferred by both\n",
    "    if context['user'] == \"Tom\":\n",
    "        p=np.random.random()\n",
    "        if context['time_of_day'] == \"morning\" and action == 'politics':\n",
    "            return positivereward(p,eps)\n",
    "        elif context['time_of_day'] == \"afternoon\" and action == 'music':\n",
    "            return positivereward(p,eps)\n",
    "        else:\n",
    "            return negativereward(p,eps)\n",
    "    elif context['user'] == \"Anna\":\n",
    "        p=np.random.random()\n",
    "        if context['time_of_day'] == \"morning\" and action == 'sports':\n",
    "            return positivereward(p,eps)\n",
    "        elif context['time_of_day'] == \"afternoon\" and action == 'politics':\n",
    "            return positivereward(p,eps)\n",
    "        else:\n",
    "            return negativereward(p,eps)\n",
    "            \n",
    "def get_cost_olympics(context,action, eps): # Olympics being held hence sports preferred by both\n",
    "    if context['user'] == \"Tom\":\n",
    "        p=np.random.random()\n",
    "        if context['time_of_day'] == \"morning\" and action == 'politics':\n",
    "            return positivereward(p,eps)\n",
    "        elif context['time_of_day'] == \"afternoon\" and action == 'sports':\n",
    "            return positivereward(p,eps)\n",
    "        else:\n",
    "            return negativereward(p,eps)\n",
    "    elif context['user'] == \"Anna\":\n",
    "        p=np.random.random()\n",
    "        if context['time_of_day'] == \"morning\" and action == 'sports':\n",
    "            return positivereward(p,eps)\n",
    "        elif context['time_of_day'] == \"afternoon\" and action == 'sports':\n",
    "            return positivereward(p,eps)\n",
    "        else:\n",
    "            return negativereward(p,eps)\n",
    "        \n",
    "def get_cost_grammy(context,action, eps): # Grammy Awards being held hence music preferred by both\n",
    "    if context['user'] == \"Tom\":\n",
    "        p=np.random.random()\n",
    "        if context['time_of_day'] == \"morning\" and action == 'music':\n",
    "            return positivereward(p,eps)\n",
    "        elif context['time_of_day'] == \"afternoon\" and action == 'sports':\n",
    "            return positivereward(p,eps)\n",
    "        else:\n",
    "            return negativereward(p,eps)\n",
    "    elif context['user'] == \"Anna\":\n",
    "        p=np.random.random()\n",
    "        if context['time_of_day'] == \"morning\" and action == 'music':\n",
    "            return positivereward(p,eps)\n",
    "        elif context['time_of_day'] == \"afternoon\" and action == 'food':\n",
    "            return positivereward(p,eps)\n",
    "        else:\n",
    "            return negativereward(p,eps)\n",
    "        \n",
    "def get_cost_world_health_day(context,action, eps): # World Health Day hence health preferred by both\n",
    "    if context['user'] == \"Tom\":\n",
    "        p=np.random.random()\n",
    "        if context['time_of_day'] == \"morning\" and action == 'music':\n",
    "            return positivereward(p,eps)\n",
    "        elif context['time_of_day'] == \"afternoon\" and action == 'health':\n",
    "            return positivereward(p,eps)\n",
    "        else:\n",
    "            return negativereward(p,eps)\n",
    "    elif context['user'] == \"Anna\":\n",
    "        p=np.random.random()\n",
    "        if context['time_of_day'] == \"morning\" and action == 'health':\n",
    "            return positivereward(p,eps)\n",
    "        elif context['time_of_day'] == \"afternoon\" and action == 'food':\n",
    "            return positivereward(p,eps)\n",
    "        else:\n",
    "            return negativereward(p,eps)\n",
    "        \n",
    "def get_cost_budget(context,action, eps): # Budget being disclosed hence finance preferred by both\n",
    "    if context['user'] == \"Tom\":\n",
    "        p=np.random.random()\n",
    "        if context['time_of_day'] == \"morning\" and action == 'camping':\n",
    "            return positivereward(p,eps)\n",
    "        elif context['time_of_day'] == \"afternoon\" and action == 'finance':\n",
    "            return positivereward(p,eps)\n",
    "        else:\n",
    "            return negativereward(p,eps)\n",
    "    elif context['user'] == \"Anna\":\n",
    "        p=np.random.random()\n",
    "        if context['time_of_day'] == \"morning\" and action == 'finance':\n",
    "            return positivereward(p,eps)\n",
    "        elif context['time_of_day'] == \"afternoon\" and action == 'finance':\n",
    "            return positivereward(p,eps)\n",
    "        else:\n",
    "            return negativereward(p,eps)\n"
   ]
  },
  {
   "cell_type": "markdown",
   "metadata": {},
   "source": [
    "**Function to modify (context, action, cost, probability) to VW friendly format**\n"
   ]
  },
  {
   "cell_type": "code",
   "execution_count": 42,
   "metadata": {},
   "outputs": [],
   "source": [
    "def to_vw_example_format(context, actions, cb_label = None):\n",
    "    if cb_label is not None:\n",
    "        chosen_action, cost, prob = cb_label\n",
    "    example_string = \"\"\n",
    "    example_string += \"shared |User user={} time_of_day={}\\n\".format(context[\"user\"], context[\"time_of_day\"])\n",
    "    for action in actions:\n",
    "        if cb_label is not None and action == chosen_action:\n",
    "            example_string += \"0:{}:{} \".format(cost, prob)\n",
    "        example_string += \"|Action article={} \\n\".format(action)\n",
    "    return example_string[:-1]"
   ]
  },
  {
   "cell_type": "markdown",
   "metadata": {},
   "source": [
    "**Function to sample the pmf to get the action after calculating the pmf values for the list of actions**"
   ]
  },
  {
   "cell_type": "code",
   "execution_count": 43,
   "metadata": {},
   "outputs": [],
   "source": [
    "def sample_custom_pmf(pmf):\n",
    "    total = sum(pmf)\n",
    "    scale = 1 / total\n",
    "    pmf = [x * scale for x in pmf]\n",
    "    draw = random.random()\n",
    "    sum_prob = 0.0\n",
    "    for index, prob in enumerate(pmf):\n",
    "        sum_prob += prob\n",
    "        if(sum_prob > draw):\n",
    "            return index, prob"
   ]
  },
  {
   "cell_type": "markdown",
   "metadata": {},
   "source": [
    "**Function to return the action and probability of choosing it**"
   ]
  },
  {
   "cell_type": "code",
   "execution_count": 44,
   "metadata": {},
   "outputs": [],
   "source": [
    "def get_action(vw, context, actions):\n",
    "    vw_text_example = to_vw_example_format(context,actions)\n",
    "    pmf = vw.predict(vw_text_example)\n",
    "    chosen_action_index, prob = sample_custom_pmf(pmf)\n",
    "    return actions[chosen_action_index], prob"
   ]
  },
  {
   "cell_type": "markdown",
   "metadata": {},
   "source": [
    "**Defining users, actions, times of day and functions to randomly make a user and time of day choice**"
   ]
  },
  {
   "cell_type": "code",
   "execution_count": 45,
   "metadata": {},
   "outputs": [],
   "source": [
    "users = ['Tom', 'Anna']\n",
    "times_of_day = ['morning', 'afternoon']\n",
    "actions = [\"politics\", \"sports\", \"music\", \"food\", \"finance\", \"health\", \"camping\"]\n",
    "def choose_user(users):\n",
    "    return random.choice(users)\n",
    "\n",
    "def choose_time_of_day(times_of_day):\n",
    "    return random.choice(times_of_day)"
   ]
  },
  {
   "cell_type": "markdown",
   "metadata": {},
   "source": [
    "**Function for plotting and incorporating the non-stationarity with a changing reward distribution over time**"
   ]
  },
  {
   "cell_type": "code",
   "execution_count": 46,
   "metadata": {},
   "outputs": [],
   "source": [
    "def plot_ctr(num_iterations, ctr):\n",
    "    plt.plot(range(1,num_iterations+1), ctr)\n",
    "    plt.xlabel('num_iterations', fontsize=14)\n",
    "    plt.ylabel('ctr', fontsize=14)\n",
    "    plt.ylim([0,1])\n",
    "\n",
    "def run_simulation_multiple_cost_functions(vw, num_iterations, users, times_of_day, actions, cost_functions, epsilon, do_learn = True):\n",
    "    cost_sum = 0.\n",
    "    ctr = []\n",
    "    start_counter = 1\n",
    "    end_counter = start_counter + num_iterations\n",
    "    for cost_function in cost_functions:\n",
    "        for i in range(start_counter, end_counter):\n",
    "            user = choose_user(users)\n",
    "            time_of_day = choose_time_of_day(times_of_day)\n",
    "            context = {'user': user, 'time_of_day': time_of_day}\n",
    "            action, prob = get_action(vw, context, actions)\n",
    "            cost = cost_function(context, action, epsilon)\n",
    "            cost_sum += cost\n",
    "            if do_learn:\n",
    "                vw_format = vw.parse(to_vw_example_format(context, actions, (action, cost, prob)),pyvw.vw.lContextualBandit)\n",
    "                vw.learn(vw_format)\n",
    "            ctr.append(-1*cost_sum/i)\n",
    "        start_counter = end_counter\n",
    "        end_counter = start_counter + num_iterations\n",
    "\n",
    "    return ctr"
   ]
  },
  {
   "cell_type": "markdown",
   "metadata": {},
   "source": [
    "**Defining the cost function and epsilon parameter for the noise. Further to increase the stochasticity the different preference based cost functions are chosen randomly**"
   ]
  },
  {
   "cell_type": "code",
   "execution_count": 47,
   "metadata": {},
   "outputs": [],
   "source": [
    "num_iterations_per_cost_func = 5000\n",
    "epsilon=0.15\n",
    "cost_functions = [get_cost_olympics, get_cost_world_health_day, get_cost_grammy, get_cost_budget,get_cost_elections]\n",
    "cost_functions= random.choices(cost_functions,k=4)\n",
    "total_iterations = num_iterations_per_cost_func * len(cost_functions)"
   ]
  },
  {
   "cell_type": "markdown",
   "metadata": {},
   "source": [
    "**Using the cb_explore_adf contextual bandit algorithm and exploring with the epsilon-greedy algorithm with epsilon value = 0.2 and plotting ctr vs num_iterations**"
   ]
  },
  {
   "cell_type": "code",
   "execution_count": 48,
   "metadata": {},
   "outputs": [
    {
     "data": {
      "image/png": "[encoded data removed]",
      "text/plain": [
       "<Figure size 432x288 with 1 Axes>"
      ]
     },
     "metadata": {
      "needs_background": "light"
     },
     "output_type": "display_data"
    }
   ],
   "source": [
    "vw = pyvw.vw(\"--cb_explore_adf -q UA --quiet --epsilon 0.2\")\n",
    "ctr = run_simulation_multiple_cost_functions(vw, num_iterations_per_cost_func, users, times_of_day, actions, cost_functions, epsilon)\n",
    "plot_ctr(total_iterations, ctr)"
   ]
  },
  {
   "cell_type": "markdown",
   "metadata": {},
   "source": [
    "**The above case without learning**"
   ]
  },
  {
   "cell_type": "code",
   "execution_count": 49,
   "metadata": {},
   "outputs": [
    {
     "data": {
      "image/png": "[encoded data removed]",
      "text/plain": [
       "<Figure size 432x288 with 1 Axes>"
      ]
     },
     "metadata": {
      "needs_background": "light"
     },
     "output_type": "display_data"
    }
   ],
   "source": [
    "vw = pyvw.vw(\"--cb_explore_adf -q UA --quiet --epsilon 0.2\")\n",
    "ctr = run_simulation_multiple_cost_functions(vw, num_iterations_per_cost_func, users, times_of_day, actions, cost_functions, epsilon, do_learn=False)\n",
    "plot_ctr(total_iterations, ctr)"
   ]
  },
  {
   "cell_type": "markdown",
   "metadata": {},
   "source": [
    "**Using the cb_explore_adf contextual bandit algorithm and exploring with the explore-first algorithm with tau value = 2 and plotting ctr vs num_iterations**"
   ]
  },
  {
   "cell_type": "code",
   "execution_count": 50,
   "metadata": {},
   "outputs": [
    {
     "data": {
      "image/png": "[encoded data removed]",
      "text/plain": [
       "<Figure size 432x288 with 1 Axes>"
      ]
     },
     "metadata": {
      "needs_background": "light"
     },
     "output_type": "display_data"
    }
   ],
   "source": [
    "vw = pyvw.vw(\"--cb_explore_adf -q UA --quiet --first 2\")\n",
    "ctr = run_simulation_multiple_cost_functions(vw, num_iterations_per_cost_func, users, times_of_day, actions, cost_functions, epsilon)\n",
    "plot_ctr(total_iterations, ctr)"
   ]
  },
  {
   "cell_type": "markdown",
   "metadata": {},
   "source": [
    "**The above case without learning**"
   ]
  },
  {
   "cell_type": "code",
   "execution_count": 51,
   "metadata": {},
   "outputs": [
    {
     "data": {
      "image/png": "[encoded data removed]",
      "text/plain": [
       "<Figure size 432x288 with 1 Axes>"
      ]
     },
     "metadata": {
      "needs_background": "light"
     },
     "output_type": "display_data"
    }
   ],
   "source": [
    "vw = pyvw.vw(\"--cb_explore_adf -q UA --quiet --first 2\")\n",
    "ctr = run_simulation_multiple_cost_functions(vw, num_iterations_per_cost_func, users, times_of_day, actions, cost_functions, epsilon, do_learn=False)\n",
    "plot_ctr(total_iterations, ctr)"
   ]
  },
  {
   "cell_type": "markdown",
   "metadata": {},
   "source": [
    "**Using the cb_explore_adf contextual bandit algorithm and exploring with the bagging explorer algorithm with m = 5 and plotting ctr vs num_iterations**"
   ]
  },
  {
   "cell_type": "code",
   "execution_count": 52,
   "metadata": {},
   "outputs": [
    {
     "data": {
      "image/png": "[encoded data removed]",
      "text/plain": [
       "<Figure size 432x288 with 1 Axes>"
      ]
     },
     "metadata": {
      "needs_background": "light"
     },
     "output_type": "display_data"
    }
   ],
   "source": [
    "vw = pyvw.vw(\"--cb_explore_adf -q UA --quiet --bag 5\")\n",
    "ctr = run_simulation_multiple_cost_functions(vw, num_iterations_per_cost_func, users, times_of_day, actions, cost_functions, epsilon)\n",
    "plot_ctr(total_iterations, ctr)"
   ]
  },
  {
   "cell_type": "markdown",
   "metadata": {},
   "source": [
    "**The above case without learning**"
   ]
  },
  {
   "cell_type": "code",
   "execution_count": 53,
   "metadata": {},
   "outputs": [
    {
     "data": {
      "image/png": "[encoded data removed]",
      "text/plain": [
       "<Figure size 432x288 with 1 Axes>"
      ]
     },
     "metadata": {
      "needs_background": "light"
     },
     "output_type": "display_data"
    }
   ],
   "source": [
    "vw = pyvw.vw(\"--cb_explore_adf -q UA --quiet --bag 5\")\n",
    "ctr = run_simulation_multiple_cost_functions(vw, num_iterations_per_cost_func, users, times_of_day, actions, cost_functions, epsilon, do_learn=False)\n",
    "plot_ctr(total_iterations, ctr)"
   ]
  },
  {
   "cell_type": "markdown",
   "metadata": {},
   "source": [
    "**Using the cb_explore_adf contextual bandit algorithm and exploring with the online cover algorithm with m = 3 and plotting ctr vs num_iterations**"
   ]
  },
  {
   "cell_type": "code",
   "execution_count": 54,
   "metadata": {},
   "outputs": [
    {
     "data": {
      "image/png": "[encoded data removed]",
      "text/plain": [
       "<Figure size 432x288 with 1 Axes>"
      ]
     },
     "metadata": {
      "needs_background": "light"
     },
     "output_type": "display_data"
    }
   ],
   "source": [
    "vw = pyvw.vw(\"--cb_explore_adf -q UA --quiet --cover 3\")\n",
    "ctr = run_simulation_multiple_cost_functions(vw, num_iterations_per_cost_func, users, times_of_day, actions, cost_functions, epsilon)\n",
    "plot_ctr(total_iterations, ctr)"
   ]
  },
  {
   "cell_type": "markdown",
   "metadata": {},
   "source": [
    "**The above case without learning**"
   ]
  },
  {
   "cell_type": "code",
   "execution_count": 55,
   "metadata": {},
   "outputs": [
    {
     "data": {
      "image/png": "[encoded data removed]",
      "text/plain": [
       "<Figure size 432x288 with 1 Axes>"
      ]
     },
     "metadata": {
      "needs_background": "light"
     },
     "output_type": "display_data"
    }
   ],
   "source": [
    "vw = pyvw.vw(\"--cb_explore_adf -q UA --quiet --cover 3\")\n",
    "ctr = run_simulation_multiple_cost_functions(vw, num_iterations_per_cost_func, users, times_of_day, actions, cost_functions, epsilon, do_learn=False)\n",
    "plot_ctr(total_iterations, ctr)"
   ]
  },
  {
   "cell_type": "markdown",
   "metadata": {},
   "source": [
    "**Using the cb_explore_adf contextual bandit algorithm and exploring with the softmax explorer algorithm with lambda = 10 and plotting ctr vs num_iterations**"
   ]
  },
  {
   "cell_type": "code",
   "execution_count": 56,
   "metadata": {},
   "outputs": [
    {
     "data": {
      "image/png": "[encoded data removed]",
      "text/plain": [
       "<Figure size 432x288 with 1 Axes>"
      ]
     },
     "metadata": {
      "needs_background": "light"
     },
     "output_type": "display_data"
    }
   ],
   "source": [
    "vw = pyvw.vw(\"--cb_explore_adf --quiet --softmax --lambda 10\")\n",
    "ctr = run_simulation_multiple_cost_functions(vw, num_iterations_per_cost_func, users, times_of_day, actions, cost_functions, epsilon)\n",
    "plot_ctr(total_iterations, ctr)"
   ]
  },
  {
   "cell_type": "code",
   "execution_count": null,
   "metadata": {},
   "outputs": [],
   "source": []
  }
 ],
 "metadata": {
  "kernelspec": {
   "display_name": "Python 3",
   "language": "python",
   "name": "python3"
  },
  "language_info": {
   "codemirror_mode": {
    "name": "ipython",
    "version": 3
   },
   "file_extension": ".py",
   "mimetype": "text/x-python",
   "name": "python",
   "nbconvert_exporter": "python",
   "pygments_lexer": "ipython3",
   "version": "3.8.3"
  }
 },
 "nbformat": 4,
 "nbformat_minor": 4
}
